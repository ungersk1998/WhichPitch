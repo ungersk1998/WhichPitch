{
 "cells": [
  {
   "cell_type": "markdown",
   "metadata": {},
   "source": [
    "# Contains functions to scrape data from various baseball data sites"
   ]
  },
  {
   "cell_type": "code",
   "execution_count": 1,
   "metadata": {},
   "outputs": [],
   "source": [
    "# Import statements\n",
    "from bs4 import BeautifulSoup\n",
    "import requests\n",
    "import re\n",
    "import pandas as pd"
   ]
  },
  {
   "cell_type": "markdown",
   "metadata": {},
   "source": [
    "### Function to find player IDs"
   ]
  },
  {
   "cell_type": "code",
   "execution_count": 3,
   "metadata": {},
   "outputs": [],
   "source": [
    "def id_lookup(player_name:str, id_type:str = \"MLB\") -> str:\n",
    "    '''\n",
    "    Return ID for given player_name corresponding to given id_type. Defaults to MLBID.\n",
    "    NOTE: Only supports MLBID for now.\n",
    "    >>> id_lookup(\"Clayton Kershaw\",\"MLB\")\n",
    "    \"477132\"\n",
    "    >>> id_lookup(\"Chris Sale\") # Defaults to MLBID\n",
    "    \"519242\"\n",
    "    '''\n",
    "    # Load in player ID data\n",
    "    id_df = pd.read_excel(\"..\\Data\\SFBB-Player-ID-Map.xlsx\")\n",
    "    \n",
    "    # Extract player ID for given name and ID type\n",
    "    raw_id = id_df.loc[id_df.PLAYERNAME==player_name,\"MLBID\"]\n",
    "    \n",
    "    # Convert raw_id to string and return\n",
    "    return(str(int(raw_id)))  "
   ]
  },
  {
   "cell_type": "markdown",
   "metadata": {},
   "source": [
    "### Function to scrape Brooks Baseball data"
   ]
  },
  {
   "cell_type": "code",
   "execution_count": 4,
   "metadata": {},
   "outputs": [],
   "source": [
    "def scrape_brooksbb(pitcher:str, season:int, table_type:str, params_dict:dict=None) -> pd.DataFrame:\n",
    "    '''\n",
    "    Scrapes pitcher info from Brooks Baseball. Takes pitcher name, desired season, and desired table.\n",
    "    table_type input currently can be either 'po' or 'ra'.\n",
    "    Returns pandas dataframe of desired table.\n",
    "    \n",
    "    Balls, strikes, and baserunners can also be specified as follows in params_dict input:\n",
    "    params_dict={'balls':2,'strikes':0,'1b':1,'2b':0,'3b':1}\n",
    "    Baserunners are boolean 0 or 1, while balls can be 0,1,2,3 or -1 for any, and  strikes 0,1,2 or -1 for any.\n",
    "    \n",
    "    NOTE: Currently only supports 'Pitch Outcomes' and 'Results and Averages' tables. \n",
    "          Add support for 'Pitch Usage' tables to get good test data.\n",
    "    '''\n",
    "    # Get ID of given pitcher for use in query params\n",
    "    pitcher_id = id_lookup(pitcher)\n",
    "    startDate = '01/01/' + str(season)\n",
    "    endDate = '01/01/' + str(season + 1)\n",
    "    \n",
    "    # Create/complete query param dict to send with request\n",
    "    if not params_dict:\n",
    "        params_dict = {'player':pitcher_id, 'b_hand':'R', 'rType':'perc', 'var':table_type,\n",
    "                       'balls':-1, 'strikes':-1, 'startDate':startDate, 'endDate':endDate}\n",
    "    else:\n",
    "        params_dict['player'] = pitcher_id\n",
    "        params_dict['b_hand'] = 'R'\n",
    "        params_dict['rType'] = 'perc'\n",
    "        params_dict['var'] = table_type\n",
    "        params_dict['startDate'] = startDate\n",
    "        params_dict['endDate'] = endDate\n",
    "        \n",
    "    # Send request\n",
    "    brooksbb_url = \"http://www.brooksbaseball.net/tabs.php\"\n",
    "    req = requests.get(brooksbb_url,params=params_dict)\n",
    "    \n",
    "    # Extract table as pd dataframe, clean, and return\n",
    "    return(pd.read_html(req.text,header=0)[0].drop_duplicates().dropna().set_index('Pitch Type')[:-1])"
   ]
  }
 ],
 "metadata": {
  "kernelspec": {
   "display_name": "Python 3",
   "language": "python",
   "name": "python3"
  },
  "language_info": {
   "codemirror_mode": {
    "name": "ipython",
    "version": 3
   },
   "file_extension": ".py",
   "mimetype": "text/x-python",
   "name": "python",
   "nbconvert_exporter": "python",
   "pygments_lexer": "ipython3",
   "version": "3.6.5"
  }
 },
 "nbformat": 4,
 "nbformat_minor": 4
}
