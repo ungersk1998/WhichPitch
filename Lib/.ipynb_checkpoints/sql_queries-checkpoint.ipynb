{
 "cells": [
  {
   "cell_type": "markdown",
   "metadata": {},
   "source": [
    "# Functions for querying baseball info database"
   ]
  },
  {
   "cell_type": "code",
   "execution_count": 1,
   "metadata": {},
   "outputs": [],
   "source": [
    "# Import statements\n",
    "import sqlite3\n",
    "import pandas as pd\n",
    "import project_path\n",
    "import import_ipynb"
   ]
  },
  {
   "cell_type": "markdown",
   "metadata": {},
   "source": [
    "### Database connection function"
   ]
  },
  {
   "cell_type": "code",
   "execution_count": 2,
   "metadata": {},
   "outputs": [],
   "source": [
    "def create_connection(db_file: str) -> sqlite3.Connection:\n",
    "    '''\n",
    "    Create a database connection to the SQLite database specified by the db_file.\n",
    "    Returns connection object or None with printed error.\n",
    "    ''' \n",
    "    conn = None\n",
    "    try:\n",
    "        conn = sqlite3.connect(db_file)\n",
    "    except Error as e:\n",
    "        print(e)\n",
    "\n",
    "    return(conn)"
   ]
  },
  {
   "cell_type": "markdown",
   "metadata": {},
   "source": [
    "### Get table names from SQL database connection"
   ]
  },
  {
   "cell_type": "code",
   "execution_count": 3,
   "metadata": {},
   "outputs": [],
   "source": [
    "def get_tables(db_conn: sqlite3.Connection):\n",
    "    '''\n",
    "    Returns list of tables in a database given the connection object to that database.\n",
    "    '''\n",
    "    cursor = db_conn.cursor()\n",
    "    table_query = \"SELECT name FROM sqlite_master WHERE type='table';\"\n",
    "    results = cursor.execute(table_query).fetchall()\n",
    "    return(results)"
   ]
  }
 ],
 "metadata": {
  "kernelspec": {
   "display_name": "Python 3",
   "language": "python",
   "name": "python3"
  },
  "language_info": {
   "codemirror_mode": {
    "name": "ipython",
    "version": 3
   },
   "file_extension": ".py",
   "mimetype": "text/x-python",
   "name": "python",
   "nbconvert_exporter": "python",
   "pygments_lexer": "ipython3",
   "version": "3.6.5"
  }
 },
 "nbformat": 4,
 "nbformat_minor": 4
}
