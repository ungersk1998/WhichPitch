{
 "cells": [
  {
   "cell_type": "markdown",
   "metadata": {},
   "source": [
    "# Function(s) to determine desired AB outcome"
   ]
  },
  {
   "cell_type": "code",
   "execution_count": 1,
   "metadata": {},
   "outputs": [
    {
     "name": "stdout",
     "output_type": "stream",
     "text": [
      "importing Jupyter notebook from C:\\Users\\colum\\OneDrive\\Documents\\Python Scripts\\WhichPitch\\Lib\\sim_data.ipynb\n"
     ]
    }
   ],
   "source": [
    "# Import statements\n",
    "import pandas as pd"
   ]
  },
  {
   "cell_type": "markdown",
   "metadata": {},
   "source": [
    "### Create df of desired outcomes indexed by baserunners and number of outs"
   ]
  },
  {
   "cell_type": "code",
   "execution_count": 2,
   "metadata": {},
   "outputs": [],
   "source": [
    "def outcome_df() -> pd.DataFrame:\n",
    "    '''\n",
    "    Returns pandas dataframe of desired outcomes sorted by outs+baserunners.\n",
    "    TODO: Account for balls and strikes, as well, maybe using multiindexing\n",
    "    '''\n",
    "    # GB=groundball, FB=flyball, K=strikeout\n",
    "    df = pd.DataFrame(data={'Outs':[0,1,2], 'First':['GB','GB','FB'], 'Second':['FB','FB','FB'], \n",
    "                                'Third':['K','K','FB'], 'First and Second':['GB','GB','FB'],\n",
    "                                'First and Third':['K','GB','FB'], 'Second and Third':['K','K','FB'],\n",
    "                                'Bases Loaded':['K','GB','FB'], 'Bases Empty':['FB','FB','FB']}\n",
    "                              ).set_index('Outs')\n",
    "    \n",
    "    return(df)"
   ]
  },
  {
   "cell_type": "markdown",
   "metadata": {},
   "source": [
    "### Create dataframe of best pitches to throw to achieve a desired outcome"
   ]
  },
  {
   "cell_type": "code",
   "execution_count": 3,
   "metadata": {},
   "outputs": [],
   "source": [
    "def pitch_for_outcome() -> pd.DataFrame:\n",
    "    '''\n",
    "    Returns pandas dataframe of best pitches to throw sorted by desired outcome.\n",
    "    NOTE: This is a hard-coded version of what we want to intelligently infer/predict using data!!!\n",
    "    '''\n",
    "    df = pd.DataFrame(data={'Outcome':['GB','FB','K'], 'Pitch':['Curveball','Fastball','Slider'],\n",
    "                            'Location':['Low','Up','Low and Away']}).set_index('Outcome')\n",
    "    \n",
    "    return(df)"
   ]
  },
  {
   "cell_type": "markdown",
   "metadata": {},
   "source": [
    "### Convert boolean baserunner columns from game_state dataframe into readable strings (good for keys and/or column names)"
   ]
  },
  {
   "cell_type": "code",
   "execution_count": 4,
   "metadata": {},
   "outputs": [],
   "source": [
    "def to_baserunners(game_state_row: tuple) -> str:\n",
    "    '''\n",
    "    Converts baserunner info from row of game_state df to string key for later column matching.\n",
    "    >>> to_baserunners({...,'1st':False,'2nd':True,'3rd':True,...})\n",
    "    '2nd and 3rd'\n",
    "    '''\n",
    "    # Logic to translate baserunner info from game_state_row\n",
    "    first = game_state_row.First\n",
    "    second = game_state_row.Second\n",
    "    third = game_state_row.Third\n",
    "    \n",
    "    if first:\n",
    "        if second:\n",
    "            if third:\n",
    "                baserunners = 'Bases Loaded'\n",
    "            else:\n",
    "                baserunners = 'First and Second'\n",
    "        elif third:\n",
    "            baserunners = 'First and Third'\n",
    "        else:\n",
    "            baserunners = 'First'\n",
    "    else:\n",
    "        if second:\n",
    "            if third:\n",
    "                baserunners = 'Second and Third'\n",
    "            else:\n",
    "                baserunners = 'Second'\n",
    "        elif third:\n",
    "            baserunners = 'Third'\n",
    "        else:\n",
    "            baserunners = 'Bases Empty'\n",
    "        \n",
    "    # Return baserunner info string\n",
    "    return(baserunners)"
   ]
  },
  {
   "cell_type": "markdown",
   "metadata": {},
   "source": [
    "### Select desired outcomes for each situation in a game_state dataframe"
   ]
  },
  {
   "cell_type": "code",
   "execution_count": 5,
   "metadata": {},
   "outputs": [],
   "source": [
    "def desired_outcomes(game_state: pd.DataFrame) -> pd.Series:\n",
    "    '''\n",
    "    Returns pandas series of desired AB outcomes based on given game state dataframe.\n",
    "    Return values may include 'GB','FB','K','BA' (groundball, flyball, strikeout, min batting average).\n",
    "    '''\n",
    "    # Dataframe of desired outcomes sorted by outs+baserunners\n",
    "    best_outcomes = outcome_df()\n",
    "    \n",
    "    # Loop through game_state observations, extract relevant info, match with desired outcome\n",
    "    desired_outcomes = []\n",
    "    for row in game_state.itertuples():\n",
    "        outs = row.Outs\n",
    "        baserunners = to_baserunners(row)\n",
    "        desired_outcomes.append(best_outcomes.loc[outs,baserunners])  \n",
    "        \n",
    "    # Return desied outcomes as pandas series\n",
    "    return(pd.Series(desired_outcomes).rename('Desired Outcome'))"
   ]
  },
  {
   "cell_type": "markdown",
   "metadata": {},
   "source": [
    "### Choose pitch selection based on desired outcome"
   ]
  },
  {
   "cell_type": "code",
   "execution_count": 6,
   "metadata": {},
   "outputs": [],
   "source": [
    "def desired_pitch(desired_outcomes: pd.Series) -> pd.DataFrame:\n",
    "    '''\n",
    "    Returns pandas dataframe of desired pitches to achieve desired outcomes in a given game state.\n",
    "    Dataframe includes pitch type and location.\n",
    "    '''\n",
    "    # Dataframe of desired pitches sorted by desired outcome\n",
    "    best_pitches = pitch_for_outcome()\n",
    "    \n",
    "    # Loop through desired outcomes and match with best pitch selection\n",
    "    pitch_selections = pd.DataFrame(columns=best_pitches.columns)\n",
    "    for outcome in desired_outcomes:\n",
    "        pitch_selections = pitch_selections.append(best_pitches.loc[outcome],ignore_index=True)\n",
    "        \n",
    "    # Return pitch selections\n",
    "    return(pitch_selections)"
   ]
  },
  {
   "cell_type": "markdown",
   "metadata": {},
   "source": [
    "### Test case (change cell from markdown to code and run)\n",
    "import project_path\n",
    "\n",
    "import import_ipynb\n",
    "\n",
    "from WhichPitch.Lib import sim_data\n",
    "\n",
    "\n",
    "game_states = sim_data.sim_game_state(10)\n",
    "\n",
    "outcomes = desired_outcomes(game_states)\n",
    "\n",
    "pitches = desired_pitch(outcomes)\n",
    "\n",
    "pd.concat([game_states,outcomes,pitches],axis=1)"
   ]
  }
 ],
 "metadata": {
  "kernelspec": {
   "display_name": "Python 3",
   "language": "python",
   "name": "python3"
  },
  "language_info": {
   "codemirror_mode": {
    "name": "ipython",
    "version": 3
   },
   "file_extension": ".py",
   "mimetype": "text/x-python",
   "name": "python",
   "nbconvert_exporter": "python",
   "pygments_lexer": "ipython3",
   "version": "3.6.5"
  }
 },
 "nbformat": 4,
 "nbformat_minor": 4
}
