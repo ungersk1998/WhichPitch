{
 "cells": [
  {
   "cell_type": "markdown",
   "metadata": {},
   "source": [
    "# Contains functions to scrape data from various baseball data sites"
   ]
  },
  {
   "cell_type": "code",
   "execution_count": 1,
   "metadata": {},
   "outputs": [],
   "source": [
    "# Import statements\n",
    "from bs4 import BeautifulSoup\n",
    "import requests\n",
    "import re\n",
    "import pandas as pd"
   ]
  },
  {
   "cell_type": "markdown",
   "metadata": {},
   "source": [
    "### Function to scrape Brooks Baseball data"
   ]
  },
  {
   "cell_type": "code",
   "execution_count": 2,
   "metadata": {},
   "outputs": [],
   "source": [
    "import project_path\n",
    "import import_ipynb"
   ]
  },
  {
   "cell_type": "code",
   "execution_count": 3,
   "metadata": {},
   "outputs": [],
   "source": [
    "def id_lookup(player_name:str, id_type:str = \"MLB\") -> str:\n",
    "    '''\n",
    "    Return ID for given player_name corresponding to given id_type. Defaults to MLBID.\n",
    "    NOTE: Only supports MLBID for now.\n",
    "    >>> id_lookup(\"Clayton Kershaw\",\"MLB\")\n",
    "    \"477132\"\n",
    "    >>> id_lookup(\"Chris Sale\") # Defaults to MLBID\n",
    "    \"519242\"\n",
    "    '''\n",
    "    # Load in player ID data\n",
    "    id_df = pd.read_excel(\"..\\Data\\SFBB-Player-ID-Map.xlsx\")\n",
    "    \n",
    "    # Extract player ID for given name and ID type\n",
    "    raw_id = id_df.loc[id_df.PLAYERNAME==player_name,\"MLBID\"]\n",
    "    \n",
    "    # Convert raw_id to string and return\n",
    "    return(str(int(raw_id)))  "
   ]
  },
  {
   "cell_type": "code",
   "execution_count": 8,
   "metadata": {},
   "outputs": [],
   "source": [
    "chris_sale_id = id_lookup(\"Chris Sale\")\n",
    "brooksbb_url = \"http://www.brooksbaseball.net/tabs.php\"\n",
    "params = {player:chris_sale_id,}"
   ]
  },
  {
   "cell_type": "code",
   "execution_count": 7,
   "metadata": {},
   "outputs": [
    {
     "data": {
      "text/plain": [
       "'519242'"
      ]
     },
     "execution_count": 7,
     "metadata": {},
     "output_type": "execute_result"
    }
   ],
   "source": [
    "req = requests.get(brooksbb_url,params=)"
   ]
  },
  {
   "cell_type": "code",
   "execution_count": null,
   "metadata": {},
   "outputs": [],
   "source": [
    "'''http://www.brooksbaseball.net/tabs.php?\n",
    "player=519242&            # Player's MLB ID\n",
    "p_hand=-1&                # Pitcher Hand (Probably doesn't change much)\n",
    "b_hand=R                  # Batter Hand (L, R, -1=None)\n",
    "ppos=-1&                  # Player Position? (Probably doesn't change much)\n",
    "cn=200&                   # Unknown. (Probably doesn't change much)\n",
    "compType=none&            # Unknown. (Probably doesn't change much)\n",
    "risp=0&                   # Runners in Scoring Position (0=False,1=True)\n",
    "1b=0&                     # Runner on First (0=False,1=True)\n",
    "2b=0&                     # Runner on Second (0=False,1=True)\n",
    "3b=0&                     # Runner on Third (0=False,1=True)\n",
    "rType=perc&               # Report Type (perc, count). Table values as percentages or raw counts.\n",
    "balls=-1&                 # Balls in PA (-1=Any,0,1,2,3)\n",
    "strikes=-1&               # Strikes in PA (-1=Any,0,1,2)\n",
    "tto=1                     # Times through the order (None, 1, 2, 3). 3 means 3+ times through order.\n",
    "time=month&               # Unknown. (Probably doesn't change much)\n",
    "minmax=ci&                # Unknown. (Probably doesn't change much)\n",
    "var=traj&                 # Table Types (traj=trajectory/movement, usage, po=pitch outcomes, so=sabr outcomes,\n",
    "                            ra=results and averages, bb=batted balls, gl=game logs (table wih hyperlinks))\n",
    "s_type=2&                 # Unknown. (Probably doesn't change much)\n",
    "gFilt=&                   # Game Filter (regular=regular season MLB,postseason=postseason MLB, allmlb=Both)\n",
    "startDate=01/01/2017&     # Start Date in MM/DD/YYYY format\n",
    "endDate=01/01/2018\"       # End Date in MM/DD/YYYY format"
   ]
  },
  {
   "cell_type": "code",
   "execution_count": null,
   "metadata": {},
   "outputs": [],
   "source": []
  },
  {
   "cell_type": "code",
   "execution_count": 4,
   "metadata": {},
   "outputs": [
    {
     "ename": "SyntaxError",
     "evalue": "unexpected EOF while parsing (<ipython-input-4-225ca67af0a4>, line 1)",
     "output_type": "error",
     "traceback": [
      "\u001b[1;36m  File \u001b[1;32m\"<ipython-input-4-225ca67af0a4>\"\u001b[1;36m, line \u001b[1;32m1\u001b[0m\n\u001b[1;33m    def scrape_brooksbb(pitcher,season) -> pd.DataFrame:\u001b[0m\n\u001b[1;37m                                                        ^\u001b[0m\n\u001b[1;31mSyntaxError\u001b[0m\u001b[1;31m:\u001b[0m unexpected EOF while parsing\n"
     ]
    }
   ],
   "source": [
    "def scrape_brooksbb(pitcher,season) -> pd.DataFrame:"
   ]
  }
 ],
 "metadata": {
  "kernelspec": {
   "display_name": "Python 3",
   "language": "python",
   "name": "python3"
  },
  "language_info": {
   "codemirror_mode": {
    "name": "ipython",
    "version": 3
   },
   "file_extension": ".py",
   "mimetype": "text/x-python",
   "name": "python",
   "nbconvert_exporter": "python",
   "pygments_lexer": "ipython3",
   "version": "3.6.5"
  }
 },
 "nbformat": 4,
 "nbformat_minor": 4
}
