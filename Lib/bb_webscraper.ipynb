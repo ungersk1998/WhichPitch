{
 "cells": [
  {
   "cell_type": "markdown",
   "metadata": {},
   "source": [
    "# Contains functions to scrape data from various baseball data sites"
   ]
  },
  {
   "cell_type": "code",
   "execution_count": 1,
   "metadata": {},
   "outputs": [],
   "source": [
    "# Import statements\n",
    "import requests\n",
    "import pandas as pd"
   ]
  },
  {
   "cell_type": "markdown",
   "metadata": {},
   "source": [
    "### Function to find player IDs"
   ]
  },
  {
   "cell_type": "code",
   "execution_count": 2,
   "metadata": {},
   "outputs": [],
   "source": [
    "def id_lookup(player_name:str, id_type:str = \"MLB\") -> str:\n",
    "    '''\n",
    "    Return ID for given player_name corresponding to given id_type. Defaults to MLBID.\n",
    "    NOTE: Only supports MLBID for now.\n",
    "    >>> id_lookup(\"Clayton Kershaw\",\"MLB\")\n",
    "    \"477132\"\n",
    "    >>> id_lookup(\"Chris Sale\") # Defaults to MLBID\n",
    "    \"519242\"\n",
    "    '''\n",
    "    # Load in player ID data\n",
    "    id_df = pd.read_excel(\"..\\Data\\SFBB-Player-ID-Map.xlsx\")\n",
    "    \n",
    "    # Extract player ID for given name and ID type\n",
    "    raw_id = id_df.loc[id_df.PLAYERNAME==player_name,\"MLBID\"]\n",
    "    \n",
    "    # Convert raw_id to string and return\n",
    "    return(str(int(raw_id)))  "
   ]
  },
  {
   "cell_type": "markdown",
   "metadata": {},
   "source": [
    "### Function to scrape Brooks Baseball data"
   ]
  },
  {
   "cell_type": "code",
   "execution_count": 3,
   "metadata": {},
   "outputs": [],
   "source": [
    "def scrape_brooksbb(player:str, pitcher_or_batter: str, season:int, table_type:str,\n",
    "                    batter_hand:str = '-1', pitcher_hand:str = '-1', params_dict:dict=None) -> pd.DataFrame:\n",
    "    '''\n",
    "    Scrapes player info from Brooks Baseball. Takes player name, if you want pitching or batting data,\n",
    "    batter/pitcher handedness, desired season, and desired table. Returns pandas dataframe of desired table.\n",
    "    \n",
    "    table_type input currently can be 'po', 'ra', or 'usage'. pitcher_or_batter accepts 'pitcher' or 'batter'.\n",
    "    \n",
    "    Balls, strikes, and baserunners can also be specified as follows in params_dict input:\n",
    "    params_dict={'balls':2,'strikes':0,'1b':1,'2b':0,'3b':1,'risp':0,'tto':-1}\n",
    "    Baserunners are boolean 0 or 1, while balls can be 0,1,2,3 or -1 for any, and  strikes 0,1,2 or -1 for any.\n",
    "    risp is -1, for False, 1 for True, 0 for Doesn't Matter\n",
    "    tto can be -1 for Any, 1,2, or 3 for 3 or more.\n",
    "    Batter/Pitcher Handedness params can be 'L','R', or '-1' for either.\n",
    "    \n",
    "    NOTE: When table_type = 'usage', batter_hand must be 'L' or 'R' and pitcher_or_batter must be 'pitcher'.\n",
    "    '''\n",
    "    # Get ID of given player for use in query params\n",
    "    player_id = id_lookup(player)\n",
    "    startDate = '01/01/' + str(season)\n",
    "    endDate = '01/01/' + str(season + 1)\n",
    "    \n",
    "    # Create/complete query param dict to send with request\n",
    "    if not params_dict:\n",
    "        params_dict = {'player':player_id, 'rType':'perc', 'var':table_type,\n",
    "                       'balls':-1, 'strikes':-1, '1b':0, '2b':0, '3b':0, 'risp': 0, 'tto':-1,\n",
    "                       'startDate':startDate, 'endDate':endDate}\n",
    "    else:\n",
    "        params_dict['player'] = player_id\n",
    "        params_dict['rType'] = 'perc'\n",
    "        params_dict['var'] = table_type\n",
    "        params_dict['startDate'] = startDate\n",
    "        params_dict['endDate'] = endDate\n",
    "        \n",
    "    # Check if querying pitchers or hitters and send request\n",
    "    # Note: site uses b_hand param for both pitchers and batters, so have to assign it here\n",
    "    if pitcher_or_batter.lower().strip() == 'pitcher':\n",
    "        brooksbb_url = \"http://www.brooksbaseball.net/tabs.php\" # For pitching data\n",
    "        params_dict['b_hand'] = batter_hand\n",
    "    else:\n",
    "        brooksbb_url = \"http://www.brooksbaseball.net/h_tabs.php\" # For hitting data\n",
    "        params_dict['b_hand'] = pitcher_hand\n",
    "        \n",
    "    req = requests.get(brooksbb_url,params=params_dict)\n",
    "    \n",
    "    # Extract table as pd dataframe, clean, and return\n",
    "    if table_type == 'usage':\n",
    "        df = pd.read_html(req.text,header=0)[0].drop_duplicates() # Raw table extraction\n",
    "        df = df.iloc[1+int(df[df['Unnamed: 0'] == batter_hand + 'HH'].index.values):-1,:] # Choose hand\n",
    "        df = df.shift(-1,axis=1).rename(columns={'Unnamed: 0':'Count Type'}) # Fix columns\n",
    "        return(df.set_index('Count Type').dropna(axis=1)) # Set index, drop columns of NAs, return\n",
    "    else:\n",
    "        return(pd.read_html(req.text,header=0)[0].drop_duplicates().dropna().set_index('Pitch Type')[:-1])"
   ]
  },
  {
   "cell_type": "markdown",
   "metadata": {},
   "source": [
    "### Function to convert Brooks BB data from string percentages to decimal values"
   ]
  },
  {
   "cell_type": "code",
   "execution_count": 4,
   "metadata": {},
   "outputs": [],
   "source": [
    "def perc_to_dec(df:pd.DataFrame, ignore_cols:list=None) -> pd.DataFrame:\n",
    "    '''\n",
    "    Converts df values from string percentages to float decimals. Returns pandas DataFrame.\n",
    "    Can include list of columns names to ignore while performing conversion.\n",
    "    '''\n",
    "    # Get columns names\n",
    "    perc_cols = list(df.columns)\n",
    "    \n",
    "    # Loop through columns and convert percentages to float decimals (just float if not in ignore_cols)\n",
    "    for col in perc_cols:\n",
    "        if col in ignore_cols:\n",
    "            try: \n",
    "                df[col] = df[col].astype(float) # Try to convert to float\n",
    "            except Exception:\n",
    "                pass # Pass if can't convert to float\n",
    "        else:\n",
    "            df[col] = df[col].str.replace(r'\\%','').astype(float)/100\n",
    "    \n",
    "    # Return dataframe\n",
    "    return(df)"
   ]
  },
  {
   "cell_type": "code",
   "execution_count": null,
   "metadata": {},
   "outputs": [],
   "source": []
  }
 ],
 "metadata": {
  "kernelspec": {
   "display_name": "Python 3",
   "language": "python",
   "name": "python3"
  },
  "language_info": {
   "codemirror_mode": {
    "name": "ipython",
    "version": 3
   },
   "file_extension": ".py",
   "mimetype": "text/x-python",
   "name": "python",
   "nbconvert_exporter": "python",
   "pygments_lexer": "ipython3",
   "version": "3.6.5"
  }
 },
 "nbformat": 4,
 "nbformat_minor": 4
}
