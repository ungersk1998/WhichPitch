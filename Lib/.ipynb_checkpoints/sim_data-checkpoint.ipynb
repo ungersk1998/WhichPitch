{
 "cells": [
  {
   "cell_type": "markdown",
   "metadata": {},
   "source": [
    "# Functions for simulating data to begin pitch predictions"
   ]
  },
  {
   "cell_type": "code",
   "execution_count": 1,
   "metadata": {},
   "outputs": [],
   "source": [
    "# Import statements\n",
    "import numpy as np\n",
    "import pandas as pd\n",
    "import random as rd"
   ]
  },
  {
   "cell_type": "markdown",
   "metadata": {},
   "source": [
    "### Dataframe simulator function"
   ]
  },
  {
   "cell_type": "code",
   "execution_count": 2,
   "metadata": {},
   "outputs": [],
   "source": [
    "def sim_df(options: dict, n: int, weights: dict = None) -> pd.DataFrame:\n",
    "    '''\n",
    "    Generates pandas dataframe from given dictionary (d) with n observations.\n",
    "    Columns are keys of dictionary. Dictionary values should be potential values of associated column.\n",
    "    Will use weighted choices if weights dictionary is given (same keys as options, values should be tuples).\n",
    "    '''\n",
    "    \n",
    "    # Generate desired dataframe\n",
    "    sim_dict = {}\n",
    "    for key in options.keys():\n",
    "        if weights:\n",
    "            sim_dict[key] = rd.choices(options[key],weights=weights[key],k=n)\n",
    "        else:\n",
    "            sim_dict[key] = rd.choices(options[key],k=n)\n",
    "        \n",
    "    return(pd.DataFrame(data=sim_dict))"
   ]
  },
  {
   "cell_type": "markdown",
   "metadata": {},
   "source": [
    "### Simulating game state dataframe (outs, runs, count, men on base)"
   ]
  },
  {
   "cell_type": "code",
   "execution_count": 3,
   "metadata": {},
   "outputs": [],
   "source": [
    "def sim_game_state(n: int) -> pd.DataFrame:\n",
    "    '''\n",
    "    Return pandas dataframe with n observations of outs, strikes, balls, runs, and baserunners.\n",
    "    '''\n",
    "    # Define possible values of game state features\n",
    "    game_state_options = {\"Inning\":[1,2,3,4,5,6,7,8,9], \"Outs\":[0,1,2], \"Strikes\":[0,1,2], \"Balls\":[0,1,2,3],\n",
    "                        \"First\":[True,False], \"Second\":[True,False], \"Third\":[True,False], # Baserunners\n",
    "                        \"RS\":[0,1,2,3,4,5,6,7,8,9,10], \"RA\":[0,1,2,3,4,5,6,7,8,9,10]} #Runs Scored/Allowed\n",
    "    \n",
    "    # Generate game state dataframe\n",
    "    game_state = sim_df(game_state_options,n)\n",
    "    \n",
    "    # Return game state dataframe\n",
    "    return(game_state)"
   ]
  },
  {
   "cell_type": "markdown",
   "metadata": {},
   "source": [
    "### Simulating pitch choices (type and location)"
   ]
  },
  {
   "cell_type": "code",
   "execution_count": 4,
   "metadata": {},
   "outputs": [],
   "source": [
    "def sim_pitch_choices(n: int, \n",
    "                     pitch_types: list = [\"Fastball\",\"Slider\",\"Changeup\",\"Curveball\"]) -> pd.DataFrame:\n",
    "    '''\n",
    "    Return pandas dataframe with n observations of pitch type and pitch location.\n",
    "    '''\n",
    "    # Define possible values of pitch type and location\n",
    "    # NOTE: \"Away\" and \"In\" w.r.t right-handed batter. Only considering righty-righty matchups for now.\n",
    "    # NOTE: Pitch locations are 8 of the 9 strike zone sections (omits middle-middle). No chase pitches yet.\n",
    "    pitch_options = {\"Pitch\": pitch_types, \n",
    "                    \"Location\": [\"Up\",\"Up and Away\",\"Up and In\",\"In\",\"Away\",\"Low\",\"Low and Away\",\"Low and In\"]}\n",
    "    \n",
    "    # Generate pitch choice dataframe\n",
    "    pitch_choices = sim_df(pitch_options,n)\n",
    "    \n",
    "    # Return pitch choice dataframe\n",
    "    return(pitch_choices)"
   ]
  },
  {
   "cell_type": "code",
   "execution_count": 5,
   "metadata": {},
   "outputs": [],
   "source": [
    "#test_pitch = sim_pitch_choices(10)\n",
    "#test_game_state = sim_game_state(10)"
   ]
  },
  {
   "cell_type": "code",
   "execution_count": 6,
   "metadata": {},
   "outputs": [],
   "source": [
    "#test_pitch"
   ]
  },
  {
   "cell_type": "code",
   "execution_count": 7,
   "metadata": {},
   "outputs": [],
   "source": [
    "#test_game_state"
   ]
  },
  {
   "cell_type": "code",
   "execution_count": 8,
   "metadata": {},
   "outputs": [],
   "source": [
    "def sim_batter_reaction(pitch_choice: pd.DataFrame, swing_chances: dict = None) -> pd.Series:\n",
    "    '''\n",
    "    Return pandas series with n observations of batter swinging at or taking a given pitch.\n",
    "    Uses weights if swing_chances dict is given (e.g. likely to swing fastball, take curveball).\n",
    "    >>> sim_batter_reaction(pitch_choice,{\"Fastball\":(85,15),\"Curveball\"})\n",
    "    '''\n",
    "    # Define possible values of batter swinging\n",
    "    batter_options = {\"Swing\":[True,False]}\n",
    "    \n",
    "    # Generate batter reaction series\n",
    "    n = pitch_choice.shape[0]\n",
    "    batter_reaction = sim_df(batter_options,n,weights=swing_chances)\n",
    "    \n",
    "    # Return batter reaction series\n",
    "    return(batter_reaction)"
   ]
  },
  {
   "cell_type": "markdown",
   "metadata": {},
   "source": [
    "### Set decision rules for outcomes and record results (miss, groundball, flyball)"
   ]
  },
  {
   "cell_type": "code",
   "execution_count": 9,
   "metadata": {},
   "outputs": [],
   "source": [
    "def sim_batter_result(game_state: pd.DataFrame, pitch_choice: pd.DataFrame) -> pd.DataFrame:\n",
    "    '''\n",
    "    Return pandas dataframe with n results of a batter's reaction to pitch given the situation.\n",
    "    NOTE: This function only decides type of contact (swing and miss, groundball, flyball, etc.).\n",
    "    Another function will take care of calculating the resulting game state.\n",
    "    '''\n",
    "    "
   ]
  },
  {
   "cell_type": "code",
   "execution_count": null,
   "metadata": {},
   "outputs": [],
   "source": []
  }
 ],
 "metadata": {
  "kernelspec": {
   "display_name": "Python 3",
   "language": "python",
   "name": "python3"
  },
  "language_info": {
   "codemirror_mode": {
    "name": "ipython",
    "version": 3
   },
   "file_extension": ".py",
   "mimetype": "text/x-python",
   "name": "python",
   "nbconvert_exporter": "python",
   "pygments_lexer": "ipython3",
   "version": "3.6.5"
  }
 },
 "nbformat": 4,
 "nbformat_minor": 4
}
