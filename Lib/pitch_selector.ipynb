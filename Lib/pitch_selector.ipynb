{
 "cells": [
  {
   "cell_type": "markdown",
   "metadata": {},
   "source": [
    "# Functions to select best pitch to throw in given baseball situation"
   ]
  },
  {
   "cell_type": "code",
   "execution_count": 1,
   "metadata": {},
   "outputs": [],
   "source": [
    "# Import statements\n",
    "import pandas as pd"
   ]
  },
  {
   "cell_type": "markdown",
   "metadata": {},
   "source": [
    "### Function to combine pitcher and batter outcome histories "
   ]
  },
  {
   "cell_type": "code",
   "execution_count": 2,
   "metadata": {},
   "outputs": [],
   "source": [
    "def combine_histories(pitcher_history: pd.DataFrame, batter_history: pd.DataFrame,\n",
    "                      method: str = 'product', extra_pitches: bool = False) -> pd.DataFrame:\n",
    "    '''\n",
    "    Combines outcome histories to produce outcome metrics for pitch selections. Returns pandas dataframe.\n",
    "    Method argument can be 'product', 'min', or 'max'. Describes how cells are combined to get result.\n",
    "    Extra pitches specifies if pitches in pitcher's history but not batter's are included.\n",
    "    Method and extra pitches args default to 'product' and False, respectively.\n",
    "    '''\n",
    "    # Check if dataframes requires numeric conversion\n",
    "    \n",
    "    # Pitcher\n",
    "    if pitcher_history.Ball.dtype.kind is 'O': # Object dtype\n",
    "        pitcher_history = bb_webscraper.perc_to_dec(pitcher_history,ignore_cols='Count')\n",
    "        \n",
    "    # Batter\n",
    "    if batter_history.Ball.dtype.kind is 'O': # Object dtype\n",
    "        batter_history = bb_webscraper.perc_to_dec(batter_history,ignore_cols='Count')\n",
    "        \n",
    "    # Product method\n",
    "    combined_history = pitcher_history # Placeholder df\n",
    "    combined_history.iloc[:,1:] = pitcher_history.iloc[:,1:].multiply(batter_history.iloc[:,1:]) # Product\n",
    "    combined_history.Count += batter_history.Count # Total pitch counts\n",
    "    combined_history.dropna() # Drop rows/cols where pitch was not in both players' data\n",
    "    \n",
    "    # Return resulting dataframe\n",
    "    return(combined_history)"
   ]
  },
  {
   "cell_type": "markdown",
   "metadata": {},
   "source": [
    "### Pitch Selector Function"
   ]
  },
  {
   "cell_type": "code",
   "execution_count": 3,
   "metadata": {},
   "outputs": [],
   "source": [
    "def pitch_selector(pitcher: str, batter: str, balls: int, strikes: int, outs: int, \n",
    "                   first: int, second: int, third: int, inning: int = None, season: int = None,\n",
    "                   runs_scored:int = 0, runs_allowed:int = 0) -> dict:\n",
    "    '''\n",
    "    Takes in game state info, calculates best pitch to throw given game state, pitcher history,\n",
    "    and batter history, then returns dict of best pitch, location, and other important variables.\n",
    "    First, second, and third should be 1 for occupied, 0 for empty.\n",
    "    Note: Need to think of how to pass extra parameters to internal functions.\n",
    "    >>> pitch_selector('Dallas Keuchel', 'Albert Almora', balls=1, strikes=2, outs=1,\n",
    "                        first=1, second=0, third=0, inning=3, season=2019)['Pitch']\n",
    "    'Changeup'\n",
    "    '''\n",
    "    # Initialize return dict\n",
    "    results = {}\n",
    "    \n",
    "    # Scrape pitcher and batter histories in given game state\n",
    "    pitcher_history = bb_webscraper.scrape_brooksbb(player=pitcher, batter_hand='R', season=season,\n",
    "                                                   pitcher_or_batter='pitcher',table_type='po',\n",
    "                                                   params_dict={'balls':balls,'strikes':strikes,'1b':first,\n",
    "                                                               '2b':second,'3b':third})\n",
    "    #print(\"Pitcher Data: \\n\", pitcher_history)\n",
    "    batter_history = bb_webscraper.scrape_brooksbb(player=batter, pitcher_hand='R', season=season,\n",
    "                                                   pitcher_or_batter='batter',table_type='po',\n",
    "                                                   params_dict={'balls':balls,'strikes':strikes,'1b':first,\n",
    "                                                               '2b':second,'3b':third})\n",
    "    #print(\"Batter Data: \\n\", batter_history)\n",
    "    \n",
    "    # Create game state df and decide desired outcome\n",
    "    game_state = pd.DataFrame(data={\"Inning\":inning, \"Outs\":outs, \"Strikes\":strikes, \"Balls\":balls,\n",
    "                                    \"First\":bool(first), \"Second\":bool(second), \"Third\":bool(third),\n",
    "                                    \"R\":0, \"RA\":0}, index=[0])\n",
    "    game_state['Desired Outcome'] = outcomes.desired_outcomes(game_state)\n",
    "    desired_outcome = game_state.loc[0,'Desired Outcome']\n",
    "    #print(\"Desired Outcome:\", desired_outcome)\n",
    "    \n",
    "    # Combine pitcher and batter histories for outcome metrics\n",
    "    combined_histories = combine_histories(pitcher_history,batter_history)\n",
    "    #print(\"Combined Histories: \\n\", combined_histories)\n",
    "    \n",
    "    # Choose pitch with greatest chance of producign desired result based on combined histories\n",
    "    best_pitch = combined_histories[desired_outcome].idxmax()\n",
    "    \n",
    "    # Choose best pitch location !!!WORK IN PROGRESS!!!\n",
    "    location = outcomes.pitch_for_outcome().loc[desired_outcome,'Location']\n",
    "    \n",
    "    # Fill result dict and return it\n",
    "    results['Pitch'] = best_pitch\n",
    "    results['Location'] = location\n",
    "    results['Desired Outcome'] = desired_outcome\n",
    "    \n",
    "    return(results)"
   ]
  },
  {
   "cell_type": "code",
   "execution_count": 4,
   "metadata": {},
   "outputs": [],
   "source": [
    "# Given game state, i.e. 1 row of info...\n",
    "# 1. Decide desired outcome\n",
    "# 2. Retrieve pitcher and batter outcome histories (maybe add pitcher/batter names to df)\n",
    "# 3. Left join data so only pitches in pitcher's repertoire are considered (pd.merge)\n",
    "#     a. Make sure data is converted from string percents to decimal values for numerical work\n",
    "#     b. Maybe multiply dfs elementwise upon merging to combine batter/pitcher probabilities\n",
    "#         -> e.g. 'Fourseam, Whiffs' is 0.25 for pitcher, 0.4 for batter, 0.1 resulting\n",
    "#         -> Weighing the multiplication by pitches thrown might be good, but requires \n",
    "#            exponentiation and some basic probability concepts. Start without weights for now.\n",
    "#         -> Maybe taking the min or max is smarter... try prod,weights,min,max and compare? :)\n",
    "#     c. Note: If we already know the outcome we want, might just need 1 column from each outcome df\n",
    "# 4. Choose pitch with maximum chances of desired result."
   ]
  }
 ],
 "metadata": {
  "kernelspec": {
   "display_name": "Python 3",
   "language": "python",
   "name": "python3"
  },
  "language_info": {
   "codemirror_mode": {
    "name": "ipython",
    "version": 3
   },
   "file_extension": ".py",
   "mimetype": "text/x-python",
   "name": "python",
   "nbconvert_exporter": "python",
   "pygments_lexer": "ipython3",
   "version": "3.6.5"
  }
 },
 "nbformat": 4,
 "nbformat_minor": 4
}
